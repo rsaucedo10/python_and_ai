{
  "cells": [
    {
      "cell_type": "markdown",
      "metadata": {
        "id": "view-in-github",
        "colab_type": "text"
      },
      "source": [
        "<a href=\"https://colab.research.google.com/github/rsaucedo10/python_and_ai/blob/main/Python_Fundamentals_Day_1_Student_Version.ipynb\" target=\"_parent\"><img src=\"https://colab.research.google.com/assets/colab-badge.svg\" alt=\"Open In Colab\"/></a>"
      ]
    },
    {
      "cell_type": "markdown",
      "id": "3c3ddbc2",
      "metadata": {
        "id": "3c3ddbc2"
      },
      "source": [
        "# Python Fundamentals for AI and LLMs"
      ]
    },
    {
      "cell_type": "markdown",
      "id": "ad7b89a7",
      "metadata": {
        "id": "ad7b89a7"
      },
      "source": [
        "## Welcome to Day 1!"
      ]
    },
    {
      "cell_type": "markdown",
      "id": "2f209283",
      "metadata": {
        "id": "2f209283"
      },
      "source": [
        "In this notebook, you'll find exercises that cover the Python basics you'll need for the rest of the workshop. Complete the missing parts of the code."
      ]
    },
    {
      "cell_type": "markdown",
      "id": "515ed951",
      "metadata": {
        "id": "515ed951"
      },
      "source": [
        "### Exercise 1: Basic Arithmetic Calculator"
      ]
    },
    {
      "cell_type": "code",
      "execution_count": null,
      "id": "62ed2bf7",
      "metadata": {
        "id": "62ed2bf7"
      },
      "outputs": [],
      "source": [
        "\n",
        "# Simple Arithmetic Calculator\n",
        "\n",
        "# Step 1: Get input from the user (the first number and the second number)\n",
        "num1 = float(input(\"Enter the first number: \"))\n",
        "num2 = float(input(\"Enter the second number: \"))\n",
        "\n",
        "# Step 2: Perform basic arithmetic operations\n",
        "addition = __  # Add num1 and num2\n",
        "subtraction = __  # Subtract num2 from num1\n",
        "multiplication = __  # Multiply num1 by num2\n",
        "division = __  # Divide num1 by num2\n",
        "\n",
        "# Step 3: Print the results\n",
        "print(f\"Addition: {addition}\")\n",
        "print(f\"Subtraction: {subtraction}\")\n",
        "print(f\"Multiplication: {multiplication}\")\n",
        "print(f\"Division: {division}\")\n"
      ]
    },
    {
      "cell_type": "markdown",
      "id": "0153fd56",
      "metadata": {
        "id": "0153fd56"
      },
      "source": [
        "### Exercise 2: String Manipulation"
      ]
    },
    {
      "cell_type": "code",
      "execution_count": null,
      "id": "5a236305",
      "metadata": {
        "id": "5a236305"
      },
      "outputs": [],
      "source": [
        "\n",
        "# String Manipulation\n",
        "\n",
        "# Step 1: Ask the user to input a sentence\n",
        "sentence = input(\"Enter a sentence: \")\n",
        "\n",
        "# Step 2: Convert the sentence to uppercase and lowercase\n",
        "uppercase_sentence = __  # Convert sentence to uppercase\n",
        "lowercase_sentence = __  # Convert sentence to lowercase\n",
        "\n",
        "# Step 3: Count the number of words in the sentence\n",
        "word_count = __  # Split sentence into words and count them\n",
        "\n",
        "# Step 4: Reverse the sentence\n",
        "reversed_sentence = __  # Reverse the sentence\n",
        "\n",
        "# Step 5: Print the results\n",
        "print(f\"Uppercase: {uppercase_sentence}\")\n",
        "print(f\"Lowercase: {lowercase_sentence}\")\n",
        "print(f\"Number of words: {word_count}\")\n",
        "print(f\"Reversed: {reversed_sentence}\")\n"
      ]
    },
    {
      "cell_type": "markdown",
      "id": "545b5b77",
      "metadata": {
        "id": "545b5b77"
      },
      "source": [
        "### Exercise 3: Number Guessing Game"
      ]
    },
    {
      "cell_type": "code",
      "execution_count": 10,
      "id": "66f71a81",
      "metadata": {
        "id": "66f71a81",
        "outputId": "41360d59-be5e-40f0-c5e4-b2e2dc8fbf8a",
        "colab": {
          "base_uri": "https://localhost:8080/"
        }
      },
      "outputs": [
        {
          "output_type": "stream",
          "name": "stdout",
          "text": [
            "Guess the number between 1 and 10: 4\n",
            "Too low!\n",
            "Guess the number between 1 and 10: 6\n",
            "Too low!\n",
            "Guess the number between 1 and 10: 8\n",
            "Too high!\n",
            "Guess the number between 1 and 10: 7\n",
            "Congratulations! You guessed the correct number.\n"
          ]
        }
      ],
      "source": [
        "\n",
        "import random\n",
        "\n",
        "# Number Guessing Game\n",
        "\n",
        "# Step 1: Generate a random number between 1 and 10\n",
        "secret_number = random.randint(1, 10)\n",
        "attempts = 5\n",
        "\n",
        "# Step 2: Loop to allow the user multiple attempts to guess the number\n",
        "while attempts > 0:\n",
        "    # Step 3: Ask the user to guess the number\n",
        "    guess = int(input(\"Guess the number between 1 and 10: \"))\n",
        "\n",
        "    # Step 4: Check if the guess is correct, too low, or too high\n",
        "    if guess == secret_number:  # Check if guess is equal to secret_number\n",
        "        print(\"Congratulations! You guessed the correct number.\")\n",
        "        break\n",
        "    elif guess < secret_number:  # Check if guess is less than secret_number\n",
        "        print(\"Too low!\")\n",
        "    else:\n",
        "        print(\"Too high!\")\n",
        "\n",
        "    # Step 5: Reduce the number of attempts\n",
        "    attempts -= 1\n",
        "\n",
        "if attempts == 0:\n",
        "    print(f\"Sorry, you're out of attempts. The correct number was {secret_number}.\")\n"
      ]
    },
    {
      "cell_type": "markdown",
      "id": "c85455f8",
      "metadata": {
        "id": "c85455f8"
      },
      "source": [
        "### Exercise 4: Even or Odd Checker"
      ]
    },
    {
      "cell_type": "code",
      "execution_count": 11,
      "id": "c2b2e9cc",
      "metadata": {
        "id": "c2b2e9cc",
        "outputId": "3967cf63-f5c1-41d6-fc14-f4b4ae880e91",
        "colab": {
          "base_uri": "https://localhost:8080/"
        }
      },
      "outputs": [
        {
          "output_type": "stream",
          "name": "stdout",
          "text": [
            "1 is odd\n",
            "2 is even\n",
            "3 is odd\n",
            "4 is even\n",
            "5 is odd\n",
            "6 is even\n",
            "7 is odd\n",
            "8 is even\n",
            "9 is odd\n",
            "10 is even\n",
            "11 is odd\n",
            "12 is even\n",
            "13 is odd\n",
            "14 is even\n",
            "15 is odd\n",
            "16 is even\n",
            "17 is odd\n",
            "18 is even\n",
            "19 is odd\n",
            "20 is even\n"
          ]
        }
      ],
      "source": [
        "\n",
        "# Even or Odd Checker\n",
        "\n",
        "# Step 1: Create a list of numbers from 1 to 20\n",
        "numbers = list(range(1, 21))\n",
        "\n",
        "# Step 2: Loop through the list and check if each number is even or odd\n",
        "for num in numbers:\n",
        "    if num % 2 == 0:  # Check if the number is even\n",
        "        print(f\"{num} is even\")\n",
        "    else:\n",
        "        print(f\"{num} is odd\")\n"
      ]
    },
    {
      "cell_type": "markdown",
      "id": "c09174f5",
      "metadata": {
        "id": "c09174f5"
      },
      "source": [
        "### Exercise 5: List Operations"
      ]
    },
    {
      "cell_type": "code",
      "execution_count": 14,
      "id": "f99bc925",
      "metadata": {
        "id": "f99bc925",
        "outputId": "b21a28c8-8415-4770-d566-3363b1d163d5",
        "colab": {
          "base_uri": "https://localhost:8080/"
        }
      },
      "outputs": [
        {
          "output_type": "stream",
          "name": "stdout",
          "text": [
            "Final list of students: ['Alice', 'Bob', 'David', 'Eve', 'Frank', 'Grace']\n"
          ]
        }
      ],
      "source": [
        "\n",
        "# List Operations\n",
        "\n",
        "# Step 1: Create a list of five student names\n",
        "students = [\"Alice\", \"Bob\", \"Charlie\", \"David\", \"Eve\"]\n",
        "\n",
        "# Step 2: Add two more names to the list\n",
        "students.append(\"Frank\")  # Add \"Frank\" to the list\n",
        "students.append(\"Grace\")  # Add \"Grace\" to the list\n",
        "\n",
        "# Step 3: Remove one name from the list\n",
        "students.remove(\"Charlie\")   # Remove \"Charlie\" from the list\n",
        "\n",
        "# Step 4: Sort the list alphabetically\n",
        "students.sort()  # Sort the list\n",
        "\n",
        "# Step 5: Print the final list\n",
        "print(\"Final list of students:\", students)\n"
      ]
    },
    {
      "cell_type": "markdown",
      "id": "6decba85",
      "metadata": {
        "id": "6decba85"
      },
      "source": [
        "### Exercise 6: Dictionary of Student Grades"
      ]
    },
    {
      "cell_type": "code",
      "execution_count": null,
      "id": "bb7491e9",
      "metadata": {
        "id": "bb7491e9"
      },
      "outputs": [],
      "source": [
        "\n",
        "# Dictionary of Student Grades\n",
        "\n",
        "# Step 1: Create a dictionary to store student names and their grades\n",
        "grades = {\"Alice\": 85, \"Bob\": 78, \"Charlie\": 92}\n",
        "\n",
        "# Step 2: Add grades for two more students\n",
        "grades[\"David\"] = __  # Add a grade for \"David\"\n",
        "grades[\"Eve\"] = __  # Add a grade for \"Eve\"\n",
        "\n",
        "# Step 3: Update the grade for one student\n",
        "grades[\"Alice\"] = __  # Update Alice's grade\n",
        "\n",
        "# Step 4: Print the names of students who scored above a certain threshold\n",
        "threshold = 80\n",
        "print(\"Students with grades above\", threshold, \":\")\n",
        "for student, grade in grades.items():\n",
        "    if grade > __:  # Check if grade is above the threshold\n",
        "        print(f\"{student}: {grade}\")\n"
      ]
    },
    {
      "cell_type": "markdown",
      "id": "5827f6eb",
      "metadata": {
        "id": "5827f6eb"
      },
      "source": [
        "### Exercise 7: Basic NumPy Operations"
      ]
    },
    {
      "cell_type": "code",
      "execution_count": null,
      "id": "8f00074c",
      "metadata": {
        "id": "8f00074c"
      },
      "outputs": [],
      "source": [
        "\n",
        "%pip install numpy\n",
        "import numpy as np\n",
        "\n",
        "# NumPy Operations\n",
        "\n",
        "# Step 1: Create a NumPy array of numbers from 1 to 10\n",
        "array = np.arange(1, 11)\n",
        "\n",
        "# Step 2: Calculate and print the mean and standard deviation of the array\n",
        "mean = __  # Calculate the mean of the array\n",
        "std_dev = __  # Calculate the standard deviation of the array\n",
        "\n",
        "# Step 3: Multiply each element in the array by 2\n",
        "array_multiplied = array * __  # Multiply the array by 2\n",
        "\n",
        "# Step 4: Find the maximum and minimum values in the array\n",
        "max_value = __  # Find the maximum value in the array\n",
        "min_value = __  # Find the minimum value in the array\n",
        "\n",
        "# Step 5: Print the results\n",
        "print(\"Array:\", array)\n",
        "print(\"Mean:\", mean)\n",
        "print(\"Standard Deviation:\", std_dev)\n",
        "print(\"Array multiplied by 2:\", array_multiplied)\n",
        "print(\"Max value:\", max_value)\n",
        "print(\"Min value:\", min_value)\n"
      ]
    },
    {
      "cell_type": "markdown",
      "id": "1b327c4b",
      "metadata": {
        "id": "1b327c4b"
      },
      "source": [
        "### Exercise 8: Basic DataFrame Operations with Pandas"
      ]
    },
    {
      "cell_type": "code",
      "execution_count": null,
      "id": "5ba0c468",
      "metadata": {
        "id": "5ba0c468"
      },
      "outputs": [],
      "source": [
        "%pip install pandas\n",
        "import pandas as pd\n",
        "\n",
        "# Basic DataFrame Operations with Pandas\n",
        "\n",
        "# Step 1: Create a DataFrame with three columns: \"Name\", \"Age\", and \"Grade\"\n",
        "data = {\n",
        "    \"Name\": [\"Alice\", \"Bob\", \"Charlie\", \"David\", \"Eve\"],\n",
        "    \"Age\": [23, 25, 22, 24, 21],\n",
        "    \"Grade\": [85, 78, 92, 88, 95]\n",
        "}\n",
        "df = pd.DataFrame(data)\n",
        "\n",
        "# Step 2: Print the DataFrame\n",
        "print(\"DataFrame:\")\n",
        "print(__)  # Print the DataFrame\n",
        "\n",
        "# Step 3: Calculate the average age of the students\n",
        "average_age = df[\"Age\"].__  # Calculate the mean of the \"Age\" column\n",
        "\n",
        "# Step 4: Filter and print the names of students who scored above 80\n",
        "high_achievers = df[df[\"Grade\"] > __][\"Name\"]  # Filter students with Grade > 80\n",
        "\n",
        "# Step 5: Print the results\n",
        "print(f\"Average Age: {average_age}\")\n",
        "print(\"Students with Grade above 80:\", high_achievers.tolist())\n"
      ]
    },
    {
      "cell_type": "markdown",
      "id": "4fcd2e24",
      "metadata": {
        "id": "4fcd2e24"
      },
      "source": [
        "### Wrap-Up"
      ]
    },
    {
      "cell_type": "markdown",
      "id": "1077ce1d",
      "metadata": {
        "id": "1077ce1d"
      },
      "source": [
        "Congratulations on completing Day 1! You've covered the basics of Python and are now ready to dive into more advanced topics."
      ]
    }
  ],
  "metadata": {
    "colab": {
      "provenance": [],
      "include_colab_link": true
    },
    "language_info": {
      "name": "python"
    },
    "kernelspec": {
      "name": "python3",
      "display_name": "Python 3"
    }
  },
  "nbformat": 4,
  "nbformat_minor": 5
}